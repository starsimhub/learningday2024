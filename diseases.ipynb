{
 "cells": [
  {
   "cell_type": "markdown",
   "id": "fa65f5cc",
   "metadata": {},
   "source": [
    "# Starsim learning day - Diseases\n",
    "\n",
    "This notebook provides an introduction to setting up diseases within Starsim. It is intended to be read in conjunction with the learning day presentation slides available at: https://docs.google.com/presentation/d/1HvIVCP8FKDtuZVmSbCRaITeG2rICCIDggcrBVP0Oe18/edit?usp=sharing. \n",
    "\n",
    "Some of these exercises are based closely on the Starsim tutorial on diseases, available at: https://docs.idmod.org/projects/starsim/en/latest/tutorials/tut_diseases.html."
   ]
  },
  {
   "cell_type": "markdown",
   "id": "7e9723cf",
   "metadata": {},
   "source": [
    "## Starting with the basics: creating an SIR model using a dictionary\n",
    "Let's start with the example covered in the overview slides from this morning (https://docs.google.com/presentation/d/1hvy3ws8XzvgOj63-juGjOWH2VesqUQ6448mCI4QPxDQ/edit?usp=sharing)\n",
    "\n",
    "Note that even though we haven't covered networks yet, many of the diseases that we model transmit over contact networks, so we will include a simple contact network for this example and all others."
   ]
  },
  {
   "cell_type": "code",
   "execution_count": null,
   "id": "eb385fde",
   "metadata": {
    "ExecuteTime": {
     "end_time": "2024-09-27T00:40:18.565088Z",
     "start_time": "2024-09-27T00:40:15.940425Z"
    }
   },
   "outputs": [],
   "source": [
    "import starsim as ss\n",
    "\n",
    "pars = dict(\n",
    "   networks = 'random', # Random network\n",
    "   diseases = dict(     # The SIR disease model, our focus for this sessoin\n",
    "       type = 'sir',\n",
    "       dur_inf = 10,\n",
    "       beta = 0.1,\n",
    "   )\n",
    ")\n",
    "\n",
    "sim = ss.Sim(pars)\n",
    "sim.run()\n",
    "sim.plot()\n"
   ]
  },
  {
   "cell_type": "markdown",
   "id": "ce0adf97",
   "metadata": {},
   "source": [
    "As we've seen, the code snippet above creates a simulation (`ss.Sim`) and plots it. In this most basic example, all the information about the disease itself was passed in as a dictionary: `dict(type = 'sir', dur_inf = 10, beta = 0.1)`. This tells the model to create an SIR model where we've specified that people are infected for 10 years (note that the default timestep for Starsim is years), and where the per-contact probability of transmission is 0.1. \n",
    "\n",
    "This is a simple way to get started, but to do anything more advanced with your disease model you will almost certainly need to set up your disease as a module. This is covered in the next section."
   ]
  },
  {
   "cell_type": "markdown",
   "id": "998532af",
   "metadata": {},
   "source": [
    "## Most common usage: creating an SIR model using a disease module\n",
    "In the example above, we created a dictionary of parameters (`pars`) and passed this to the simulation (`ss.Sim`). However, it gives us a bit more flexibility if we define the disease as a module and pass that to the sim directly. The example above is equivalent to the example below:"
   ]
  },
  {
   "cell_type": "code",
   "execution_count": 5,
   "id": "0fddb0c9",
   "metadata": {
    "ExecuteTime": {
     "end_time": "2024-09-27T00:40:18.569873Z",
     "start_time": "2024-09-27T00:40:18.566095Z"
    }
   },
   "outputs": [],
   "source": [
    "sir = ss.SIR(beta=0.1, dur_inf=10)\n",
    "network = ss.RandomNet()\n",
    "sim = ss.Sim(diseases=sir, networks=network)"
   ]
  },
  {
   "cell_type": "markdown",
   "id": "cb2b8b36",
   "metadata": {},
   "source": [
    "If you're using this notebook interactively, you can try plotting that sim to verify that it gives you the same output as the previous example did."
   ]
  },
  {
   "cell_type": "markdown",
   "id": "56d6b98f",
   "metadata": {},
   "source": [
    "## Customizing the SIR model: changing parameters\n",
    "The easiest way to customize the model is by changing the parameters. Even though this is a relatively simple example, we highlight it here because this is also the first step along the pathway to model calibration. "
   ]
  },
  {
   "cell_type": "code",
   "execution_count": null,
   "id": "7e589849",
   "metadata": {
    "ExecuteTime": {
     "end_time": "2024-09-27T00:40:19.344370Z",
     "start_time": "2024-09-27T00:40:18.573880Z"
    }
   },
   "outputs": [],
   "source": [
    "sir_10years = ss.SIR(beta=0.1, dur_inf=10, label='sir')\n",
    "sir_20years = ss.SIR(beta=0.1, dur_inf=20, label='sir')\n",
    "sim_10years = ss.Sim(diseases=sir_10years, networks=network, label='10 years')\n",
    "sim_20years = ss.Sim(diseases=sir_20years, networks=network, label='20 years')\n",
    "sim_10years.run()\n",
    "sim_20years.run()"
   ]
  },
  {
   "cell_type": "markdown",
   "id": "1e844409",
   "metadata": {},
   "source": [
    "We can plot the two sims to see the differences:"
   ]
  },
  {
   "cell_type": "code",
   "execution_count": null,
   "id": "dbbdb792",
   "metadata": {
    "ExecuteTime": {
     "end_time": "2024-09-27T00:40:19.504580Z",
     "start_time": "2024-09-27T00:40:19.345380Z"
    }
   },
   "outputs": [],
   "source": [
    "import pylab as pl\n",
    "def plot_sims(*sims):\n",
    "    pl.figure()\n",
    "    for sim in sims:\n",
    "        pl.plot(sim.results.timevec, sim.results.sir.prevalence, label=sim.label)\n",
    "    pl.title('Prevalence')\n",
    "    pl.legend()\n",
    "    pl.show();\n",
    "    \n",
    "plot_sims(sim_10years, sim_20years)"
   ]
  },
  {
   "cell_type": "code",
   "execution_count": null,
   "id": "630196dc",
   "metadata": {},
   "outputs": [],
   "source": []
  },
  {
   "cell_type": "markdown",
   "id": "daae41cc",
   "metadata": {},
   "source": [
    "## Changing the timescale\n",
    "As mentioned above, the default timestep for Starsim is 1 year. There are various ways to change this. One option is to just adjust all you parameters accordingly, e.g. if you're modeling a disease with an infectious period of 2 weeks, you could enter `dur_inf=14/365`. However, Starsim also offers more support for using different units.\n",
    "\n",
    "In the example below, we use a few new tricks. Firstly, when we create the disease module, we use `ss.beta` and `ss.dur`, two methods that help Starsim understand that we want it to be smart about handling the timesteps. Using `ss.dur()` allows you to say that the duration is in units of days, weeks, months, or years.  Then secondly, when we create the simulation, we provide a lot more information about time, including that we want to start on day 0 and run the simulation for 30 days."
   ]
  },
  {
   "cell_type": "code",
   "execution_count": null,
   "id": "838b5b80",
   "metadata": {
    "ExecuteTime": {
     "end_time": "2024-09-27T00:40:19.509362Z",
     "start_time": "2024-09-27T00:40:19.505586Z"
    }
   },
   "outputs": [],
   "source": [
    "sir = ss.SIR(beta=ss.beta(0.1), dur_inf=ss.dur(10, 'days'))\n",
    "\n",
    "# Simulate from 2020 for 1 month with a daily timestep\n",
    "sim = ss.Sim(\n",
    "    start=0,\n",
    "    dur=30,\n",
    "    unit='day',      \n",
    "    diseases=sir,\n",
    "    networks=network\n",
    ")\n",
    "sim.run()\n",
    "sim.plot()"
   ]
  },
  {
   "cell_type": "markdown",
   "id": "41979344",
   "metadata": {},
   "source": [
    "By using days, weeks, or months for our simulation timestep, we can adapt models that are much more suited for modeling outbreaks or diseases of short duration."
   ]
  },
  {
   "cell_type": "markdown",
   "id": "f5271651",
   "metadata": {},
   "source": [
    "## Introducing variability\n",
    "Rather than defining our model so that everyone is infected for 10 days, we can set it up so that the duration of infection is randomly distributed."
   ]
  },
  {
   "cell_type": "code",
   "execution_count": null,
   "id": "641ffe6e",
   "metadata": {},
   "outputs": [],
   "source": [
    "sir = ss.SIR(\n",
    "    beta=ss.beta(0.1),\n",
    "    dur_inf=ss.dur(ss.normal(loc=10, scale=1), 'day')\n",
    ")\n",
    "# Simulate from 2020 for 1 month with a daily timestep\n",
    "sim = ss.Sim(\n",
    "    start=0,\n",
    "    dur=30,\n",
    "    unit='day',      \n",
    "    diseases=sir,\n",
    "    networks=network\n",
    ")\n",
    "sim.run()\n",
    "sim.plot()"
   ]
  },
  {
   "cell_type": "markdown",
   "id": "e2217f5b",
   "metadata": {},
   "source": [
    "## Other types of model\n",
    "The default Starsim package includes a few different archtypes of diseases (SIR, SEIR, SIS), as well as a few examples of specific diseases (Ebola, measles, cholera... ). You can experiment with any of the examples in the same way that we have with the SIR model, by changing parameters. Often this is a gateway to the model calibration process, where you will typically adjust model parameters like we did in the first example with `dur_inf` to match surveillance data that you might have.\n",
    "\n",
    "Getting familiar with the standard library of models is also the best pathway for learning how to create your own disease module. If you're interested in doing this, we have an advanced tutorial (https://docs.idmod.org/projects/starsim/en/latest/tutorials/dev_tut_diseases.html), and you may also like to look through some of our other repositories like STIsim (https://github.com/starsimhub/stisim) for inspiration on disease structure.\n",
    "\n",
    "## Modeling multiple diseases together\n",
    "Co-transmission modeling is one of Starsim's main selling points! Starsim has been specifically designed to make it simple and fast to model multiple diseases.\n",
    "\n",
    "To add more that one disease, you can just pass the simulation a list of diseases rather than a single disease. In the example below, we also show how to set this up so that the diseases affect each other."
   ]
  },
  {
   "cell_type": "code",
   "execution_count": null,
   "id": "4bcbbca5",
   "metadata": {},
   "outputs": [],
   "source": [
    "class simple_hiv_ng(ss.Module):\n",
    "    \"\"\" Simple connector whereby rel_sus to NG doubles if CD4 count is <200\"\"\"\n",
    "    def __init__(self, pars=None, label='HIV-Gonorrhea', **kwargs):\n",
    "        super().__init__()\n",
    "        self.define_pars(\n",
    "            rel_trans_hiv  = 2,\n",
    "            rel_trans_aids = 5,\n",
    "            rel_sus_hiv    = 2,\n",
    "            rel_sus_aids   = 5,\n",
    "        )\n",
    "        self.update_pars(pars, **kwargs)\n",
    "        return\n",
    "\n",
    "    def step(self):\n",
    "        \"\"\" Specify how HIV increases NG rel_sus and rel_trans \"\"\"\n",
    "        people = self.sim.people\n",
    "        people.gonorrhea.rel_sus[people.hiv.cd4 < 500] = self.pars.rel_sus_hiv\n",
    "        people.gonorrhea.rel_sus[people.hiv.cd4 < 200] = self.pars.rel_sus_aids\n",
    "        people.gonorrhea.rel_trans[people.hiv.cd4 < 500] = self.pars.rel_trans_hiv\n",
    "        people.gonorrhea.rel_trans[people.hiv.cd4 < 200] = self.pars.rel_trans_aids\n",
    "        return\n",
    "\n",
    "# Make HIV\n",
    "hiv = ss.HIV(\n",
    "    beta = {'mf': [0.0008, 0.0004]},  # Specify transmissibility over the MF network\n",
    "    init_prev = 0.05,\n",
    ")\n",
    "\n",
    "# Make gonorrhea\n",
    "ng = ss.Gonorrhea(\n",
    "    beta = {'mf': [0.05, 0.025]},  # Specify transmissibility over the MF network\n",
    "    init_prev = 0.025,\n",
    ")\n",
    "\n",
    "# Make the sim, including a connector betweeh HIV and gonorrhea:\n",
    "n_agents = 5_000\n",
    "sim = ss.Sim(n_agents=n_agents, networks='mf', diseases=[simple_hiv_ng(), hiv, ng])\n",
    "sim.run()\n",
    "sim.plot('hiv')\n",
    "sim.plot('gonorrhea')"
   ]
  }
 ],
 "metadata": {
  "interpreter": {
   "hash": "f02e53b57c5b07421e832345ecf38f7a8d2d37d95acfe2e20d3d6fec66321b6b"
  },
  "kernelspec": {
   "display_name": "Python [conda env:atomica312]",
   "language": "python",
   "name": "python3"
  },
  "language_info": {
   "codemirror_mode": {
    "name": "ipython",
    "version": 3
   },
   "file_extension": ".py",
   "mimetype": "text/x-python",
   "name": "python",
   "nbconvert_exporter": "python",
   "pygments_lexer": "ipython3",
   "version": "3.11.3"
  },
  "toc": {
   "base_numbering": 1,
   "nav_menu": {},
   "number_sections": true,
   "sideBar": true,
   "skip_h1_title": false,
   "title_cell": "Table of Contents",
   "title_sidebar": "Contents",
   "toc_cell": false,
   "toc_position": {
    "height": "calc(100% - 180px)",
    "left": "10px",
    "top": "150px",
    "width": "311.4px"
   },
   "toc_section_display": true,
   "toc_window_display": true
  }
 },
 "nbformat": 4,
 "nbformat_minor": 5
}
