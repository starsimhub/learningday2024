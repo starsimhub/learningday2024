{
 "cells": [
  {
   "cell_type": "markdown",
   "id": "fa65f5cc",
   "metadata": {},
   "source": [
    "# Starsim learning day - Interventions and Analyzers\n",
    "\n",
    "This notebook illustrates some simple examples of how to construct and use Interventions and Analyzers. It is intended to be read in conjunction with the learning day presentation slides. \n",
    "\n",
    "Interventions are used to apply dynamic changes to a `Sim` during execution. This makes them useful for modelling the impact of interventions, including products such as vaccines and treatments, or NPIs that change transmission risks. Analyzers are used to extract values and perform post-processing during execution, which gives them full access to the states of the agents at each timestep.\n",
    "\n",
    "Both of these classes can be used to extend and add functionality to existing simulations. To demonstrate the usage of these two classes, we begin by setting up a basic SIR model (using the SIR disease module that comes with with Starsim) with a dynamic random network, where each agent is randomly assigned a number of contacts at each timestep. "
   ]
  },
  {
   "cell_type": "code",
   "execution_count": null,
   "id": "eb385fde",
   "metadata": {
    "ExecuteTime": {
     "end_time": "2024-09-27T00:40:18.565088Z",
     "start_time": "2024-09-27T00:40:15.940425Z"
    }
   },
   "outputs": [],
   "source": [
    "import starsim as ss\n",
    "import numpy as np\n",
    "import matplotlib.pyplot as plt\n",
    "\n",
    "disease = ss.SIR(dur_inf=10, beta=0.1) # SIR model\n",
    "network = ss.RandomNet(n_contacts=4) # Random network"
   ]
  },
  {
   "cell_type": "markdown",
   "id": "f5cd5370",
   "metadata": {},
   "source": [
    "# Interventions"
   ]
  },
  {
   "cell_type": "markdown",
   "id": "998532af",
   "metadata": {},
   "source": [
    "## Vaccine intervention example\n",
    "\n",
    "This example shows how to use built-in products and interventions for common use cases like vaccines."
   ]
  },
  {
   "cell_type": "code",
   "execution_count": 2,
   "id": "0fddb0c9",
   "metadata": {
    "ExecuteTime": {
     "end_time": "2024-09-27T00:40:18.569873Z",
     "start_time": "2024-09-27T00:40:18.566095Z"
    }
   },
   "outputs": [],
   "source": [
    "# Create a vaccine product with 50% efficacy\n",
    "my_vaccine_product = ss.sir_vaccine(efficacy=0.5)\n",
    "\n",
    "# Create an intervention to distribute the product\n",
    "vaccine_campaign = ss.routine_vx(\n",
    "    start_year = 2015,     # Begin vaccination in 2015\n",
    "    prob = 0.2,            # 20% coverage\n",
    "    product = my_vaccine_product   # Use the vaccine product created above\n",
    ")"
   ]
  },
  {
   "cell_type": "code",
   "execution_count": null,
   "id": "7e589849",
   "metadata": {
    "ExecuteTime": {
     "end_time": "2024-09-27T00:40:19.344370Z",
     "start_time": "2024-09-27T00:40:18.573880Z"
    }
   },
   "outputs": [],
   "source": [
    "# Now create two sims: a baseline sim and one with the intervention\n",
    "sim_base = ss.Sim(diseases=disease, networks=network, label='Baseline')\n",
    "sim_base.run();\n",
    "sim_vac = ss.Sim(diseases=disease, networks=network, interventions=vaccine_campaign, label='Vaccines')\n",
    "sim_vac.run();"
   ]
  },
  {
   "cell_type": "code",
   "execution_count": null,
   "id": "dbbdb792",
   "metadata": {
    "ExecuteTime": {
     "end_time": "2024-09-27T00:40:19.504580Z",
     "start_time": "2024-09-27T00:40:19.345380Z"
    }
   },
   "outputs": [],
   "source": [
    "def plot_sims(*sims, quantity='prevalence'):\n",
    "    plt.figure()\n",
    "    for sim in sims:\n",
    "        plt.plot(sim.results.timevec, sim.results.sir[quantity], label=sim.label)\n",
    "    plt.axvline(x=2015, color='k', ls='--')\n",
    "    plt.title(quantity.title())\n",
    "    plt.legend()\n",
    "    \n",
    "plot_sims(sim_base, sim_vac)"
   ]
  },
  {
   "cell_type": "markdown",
   "id": "daae41cc",
   "metadata": {},
   "source": [
    "## NPI intervention example"
   ]
  },
  {
   "cell_type": "code",
   "execution_count": 5,
   "id": "838b5b80",
   "metadata": {
    "ExecuteTime": {
     "end_time": "2024-09-27T00:40:19.509362Z",
     "start_time": "2024-09-27T00:40:19.505586Z"
    }
   },
   "outputs": [],
   "source": [
    "class Masks(ss.Intervention):\n",
    "    def step(self):\n",
    "        sim = self.sim\n",
    "        if sim.now > 2015:\n",
    "            sim.diseases.sir.pars.beta = 0.01 # 10-fold reduction in beta"
   ]
  },
  {
   "cell_type": "code",
   "execution_count": null,
   "id": "a8fd5349",
   "metadata": {
    "ExecuteTime": {
     "end_time": "2024-09-27T00:40:19.960231Z",
     "start_time": "2024-09-27T00:40:19.511369Z"
    }
   },
   "outputs": [],
   "source": [
    "sim_masks = ss.Sim(diseases=disease, networks=network, interventions=Masks(), label='Masks')\n",
    "sim_masks.run()\n",
    "\n",
    "plot_sims(sim_base, sim_vac, sim_masks)"
   ]
  },
  {
   "cell_type": "markdown",
   "id": "4722bebc",
   "metadata": {},
   "source": [
    "## Network intervention"
   ]
  },
  {
   "cell_type": "code",
   "execution_count": 7,
   "id": "3c7752a3",
   "metadata": {
    "ExecuteTime": {
     "end_time": "2024-09-27T00:40:19.964428Z",
     "start_time": "2024-09-27T00:40:19.961236Z"
    }
   },
   "outputs": [],
   "source": [
    "class DecreaseContacts(ss.Intervention):\n",
    "    def step(self):\n",
    "        sim = self.sim\n",
    "        if sim.now > 2015:\n",
    "            sim.networks.randomnet.pars.n_contacts = 1 # Reduce the number of contacts"
   ]
  },
  {
   "cell_type": "code",
   "execution_count": null,
   "id": "f9a0dfba",
   "metadata": {
    "ExecuteTime": {
     "end_time": "2024-09-27T00:40:20.329786Z",
     "start_time": "2024-09-27T00:40:19.965438Z"
    }
   },
   "outputs": [],
   "source": [
    "# Now run and plot the simulation with the intervention\n",
    "sim_contacts = ss.Sim(diseases=disease, networks=network, interventions=DecreaseContacts(), label='Fewer contacts')\n",
    "sim_contacts.run()\n",
    "\n",
    "plot_sims(sim_base, sim_vac, sim_masks, sim_contacts)"
   ]
  },
  {
   "cell_type": "markdown",
   "id": "1aed398a",
   "metadata": {},
   "source": [
    "## Apply all interventions"
   ]
  },
  {
   "cell_type": "code",
   "execution_count": null,
   "id": "e2456135",
   "metadata": {
    "ExecuteTime": {
     "end_time": "2024-09-27T00:40:20.708184Z",
     "start_time": "2024-09-27T00:40:20.331793Z"
    }
   },
   "outputs": [],
   "source": [
    "# Now run and plot the simulation with the intervention\n",
    "sim_all = ss.Sim(diseases=disease, networks=network, interventions=[vaccine_campaign, Masks(), DecreaseContacts()], label='All interventions')\n",
    "sim_all.run()\n",
    "\n",
    "plot_sims(sim_base, sim_vac, sim_masks, sim_contacts, sim_all)"
   ]
  },
  {
   "cell_type": "markdown",
   "id": "674c7107",
   "metadata": {},
   "source": [
    "# Analyzers"
   ]
  },
  {
   "cell_type": "markdown",
   "id": "b4099288",
   "metadata": {},
   "source": [
    "## Simple analyzer integrated with simulation outputs"
   ]
  },
  {
   "cell_type": "code",
   "execution_count": 10,
   "id": "4d46776f",
   "metadata": {
    "ExecuteTime": {
     "end_time": "2024-09-27T00:40:20.714213Z",
     "start_time": "2024-09-27T00:40:20.710193Z"
    }
   },
   "outputs": [],
   "source": [
    "# Define a class to count child infections\n",
    "\n",
    "class ChildInfections(ss.Analyzer):\n",
    "\n",
    "    def init_pre(self, sim):\n",
    "        super().init_pre(sim)\n",
    "        self.define_results(ss.Result('child_infections'))\n",
    "\n",
    "    def step(self):\n",
    "        sim = self.sim\n",
    "        self.results['child_infections'][sim.ti] = sim.diseases.sir.infected[sim.people.age<=15].sum()"
   ]
  },
  {
   "cell_type": "code",
   "execution_count": null,
   "id": "c7c40c0e",
   "metadata": {
    "ExecuteTime": {
     "end_time": "2024-09-27T00:40:21.093404Z",
     "start_time": "2024-09-27T00:40:20.715222Z"
    }
   },
   "outputs": [],
   "source": [
    "# Now run and plot the simulation with the intervention\n",
    "# Analyzer.results are automatically added to the simulation results for exporting etc.\n",
    "\n",
    "sim = ss.Sim(diseases=disease, networks=network, analyzers=ChildInfections())\n",
    "sim.run()\n",
    "df = sim.to_df()\n",
    "df[['sir_n_infected','childinfections_child_infections']].plot();"
   ]
  },
  {
   "cell_type": "markdown",
   "id": "3f4271f6",
   "metadata": {},
   "source": [
    "## Custom analyzer for unique quantities"
   ]
  },
  {
   "cell_type": "code",
   "execution_count": 12,
   "id": "0911d3a9",
   "metadata": {
    "ExecuteTime": {
     "end_time": "2024-09-27T00:40:21.100263Z",
     "start_time": "2024-09-27T00:40:21.095755Z"
    }
   },
   "outputs": [],
   "source": [
    "# Define a class to track the age distribution of infections over time\n",
    "# This cannot be stored as part of the simulation results as the dimensionality is different\n",
    "# Instead, the analyzer can store the output directly, and provide methods to render/export it\n",
    "\n",
    "class AgeHistogram(ss.Analyzer):\n",
    "    \n",
    "    def init_pre(self, sim):\n",
    "        super().init_pre(sim)\n",
    "        self.ages = np.arange(0,100)\n",
    "        self.timevec = sim.timevec\n",
    "        self.infections = np.zeros((len(self.ages)-1, sim.npts))\n",
    "        \n",
    "    def step(self):\n",
    "        sim = self.sim\n",
    "        self.infections[:,sim.ti] = np.histogram(sim.people.age[sim.diseases.sir.infected], self.ages)[0]\n",
    "        \n",
    "    def plot(self):\n",
    "        plt.figure()\n",
    "        plt.imshow(analyzer.infections, extent=[self.timevec[0], self.timevec[-1], analyzer.ages.min(), analyzer.ages.max()], origin='lower', aspect='auto', cmap='viridis')\n",
    "        plt.xlabel('Years')\n",
    "        plt.ylabel('Age')\n",
    "        cbar = plt.colorbar(label='Number of infections')\n",
    "        plt.title('Number of infections by age')"
   ]
  },
  {
   "cell_type": "code",
   "execution_count": null,
   "id": "243b4a1d",
   "metadata": {
    "ExecuteTime": {
     "end_time": "2024-09-27T00:40:21.363082Z",
     "start_time": "2024-09-27T00:40:21.101878Z"
    }
   },
   "outputs": [],
   "source": [
    "sim = ss.Sim(diseases=disease, networks=network, analyzers=AgeHistogram())\n",
    "sim.run();"
   ]
  },
  {
   "cell_type": "code",
   "execution_count": null,
   "id": "926a4dfc",
   "metadata": {
    "ExecuteTime": {
     "end_time": "2024-09-27T00:40:21.524219Z",
     "start_time": "2024-09-27T00:40:21.364501Z"
    }
   },
   "outputs": [],
   "source": [
    "analyzer = sim.analyzers[0]\n",
    "analyzer.plot()"
   ]
  },
  {
   "cell_type": "code",
   "execution_count": null,
   "id": "c2ed0665",
   "metadata": {},
   "outputs": [],
   "source": []
  }
 ],
 "metadata": {
  "kernelspec": {
   "display_name": "Python 3 (ipykernel)",
   "language": "python",
   "name": "python3"
  },
  "language_info": {
   "codemirror_mode": {
    "name": "ipython",
    "version": 3
   },
   "file_extension": ".py",
   "mimetype": "text/x-python",
   "name": "python",
   "nbconvert_exporter": "python",
   "pygments_lexer": "ipython3",
   "version": "3.12.3"
  },
  "toc": {
   "base_numbering": 1,
   "nav_menu": {},
   "number_sections": true,
   "sideBar": true,
   "skip_h1_title": false,
   "title_cell": "Table of Contents",
   "title_sidebar": "Contents",
   "toc_cell": false,
   "toc_position": {
    "height": "calc(100% - 180px)",
    "left": "10px",
    "top": "150px",
    "width": "311.4px"
   },
   "toc_section_display": true,
   "toc_window_display": true
  }
 },
 "nbformat": 4,
 "nbformat_minor": 5
}
