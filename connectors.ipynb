{
 "cells": [
  {
   "cell_type": "code",
   "execution_count": 1,
   "id": "eb385fde",
   "metadata": {
    "ExecuteTime": {
     "end_time": "2024-09-27T00:40:18.565088Z",
     "start_time": "2024-09-27T00:40:15.940425Z"
    }
   },
   "outputs": [],
   "source": [
    "import starsim as ss"
   ]
  },
  {
   "cell_type": "code",
   "execution_count": 2,
   "id": "6d93f5d6",
   "metadata": {},
   "outputs": [],
   "source": [
    "# Define the connector\n",
    "class SIR_Connector(ss.Connector):\n",
    "    def step(self):\n",
    "        sir = self.sim.diseases.sir\n",
    "        hiv = self.sim.diseases.hiv\n",
    "        uids1 = sir.infected.uids\n",
    "        hiv.rel_sus[uids1] = 0"
   ]
  },
  {
   "cell_type": "code",
   "execution_count": 3,
   "id": "f84e966b",
   "metadata": {},
   "outputs": [],
   "source": [
    "# Create diseases\n",
    "sir = ss.SIR(init_prev=0.01, beta=0.1)\n",
    "hiv = ss.HIV(init_prev=0.01, beta=0.05)\n",
    "\n",
    "# Define the parameters\n",
    "pars = dict(\n",
    "    n_agents = 10_000,    # Number of agents to simulate\n",
    "    networks = ss.RandomNet(n_contacts=10),\n",
    "    diseases = [sir, hiv],\n",
    "    label = 'No Connector',\n",
    "    verbose = 0,\n",
    ")"
   ]
  },
  {
   "cell_type": "code",
   "execution_count": 4,
   "id": "951dce8b",
   "metadata": {},
   "outputs": [],
   "source": [
    "pars2 = pars.copy()\n",
    "pars2['connectors'] = SIR_Connector() # Insert the connector\n",
    "pars2['label'] = 'Connector' # Update the label"
   ]
  },
  {
   "cell_type": "code",
   "execution_count": null,
   "id": "ca37ba1e",
   "metadata": {},
   "outputs": [],
   "source": [
    "# Make the sim, run and plot\n",
    "sim1 = ss.Sim(pars)\n",
    "sim2 = ss.Sim(pars2)\n",
    "\n",
    "# Create a MultiSim, run and plot\n",
    "msim = ss.MultiSim([sim1, sim2])\n",
    "msim.run()\n",
    "msim.plot()"
   ]
  }
 ],
 "metadata": {
  "kernelspec": {
   "display_name": "IDM",
   "language": "python",
   "name": "python3"
  },
  "language_info": {
   "codemirror_mode": {
    "name": "ipython",
    "version": 3
   },
   "file_extension": ".py",
   "mimetype": "text/x-python",
   "name": "python",
   "nbconvert_exporter": "python",
   "pygments_lexer": "ipython3",
   "version": "3.10.12"
  },
  "toc": {
   "base_numbering": 1,
   "nav_menu": {},
   "number_sections": true,
   "sideBar": true,
   "skip_h1_title": false,
   "title_cell": "Table of Contents",
   "title_sidebar": "Contents",
   "toc_cell": false,
   "toc_position": {
    "height": "calc(100% - 180px)",
    "left": "10px",
    "top": "150px",
    "width": "311.4px"
   },
   "toc_section_display": true,
   "toc_window_display": true
  }
 },
 "nbformat": 4,
 "nbformat_minor": 5
}
