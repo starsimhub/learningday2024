{
 "cells": [
  {
   "cell_type": "markdown",
   "metadata": {},
   "source": [
    "# The Vikings Network"
   ]
  },
  {
   "cell_type": "code",
   "execution_count": 7,
   "metadata": {},
   "outputs": [],
   "source": [
    "import numpy as np\n",
    "import sciris as sc\n",
    "import starsim as ss\n",
    "\n",
    "ss_float_ = ss.dtypes.float\n",
    "ss_int_ = ss.dtypes.int\n"
   ]
  },
  {
   "cell_type": "markdown",
   "metadata": {},
   "source": [
    "\n",
    "### Class: `VikingsNet`\n",
    "This class is designed to model a dynamic network where vikings are the agents, and their interactions are captured as connections. The network evolves over time, with pairs of vikings being connected for specific durations. It inherits from `ss.DynamicNetwork`.\n",
    "\n",
    "#### `__init__(self, key_dict=None, preBoard=True, postBoard=False, **kwargs)`\n",
    "- **Purpose:** This is the constructor method that initializes the `VikingsNet` object.\n",
    "- **Parameters:**\n",
    "  - `key_dict`: A dictionary that defines network edge attributes, such as the duration (`dur`), start time (`start`), and end time (`end`) for interactions between vikings.\n",
    "  - `preBoard`: A flag that indicates if certain network setup tasks should be done before the simulation starts.\n",
    "  - `postBoard`: A flag for tasks to perform after the simulation ends.\n",
    "- **Functionality:** \n",
    "  - It calls `sc.mergedicts()` to merge any custom keys provided in `key_dict` with the default ones: `dur`, `start`, and `end`.\n",
    "  - It initializes the network by calling the superclass constructor (this is, the DynamicsNetwork base class), passing in the `key_dict`, `preBoard`, and `postBoard` flags along with any additional arguments (`kwargs`).\n",
    "\n",
    "#### `init_pre(self, sim)`\n",
    "- **Purpose:** Prepares the network for the simulation.\n",
    "- **Functionality:** \n",
    "  - Calls `super().init_pre(sim)`, which initializes the network structure before the simulation begins. This is important for setting up the network at time step 0.\n",
    "\n",
    "#### `add_pairs(self, viking_inds=None, second_viking_inds=None, dur=None, start=None)`\n",
    "- **Purpose:** Adds pairs of vikings to the network, representing connections between them.\n",
    "- **Parameters:**\n",
    "  - `viking_inds`: The first set of vikings involved in interactions.\n",
    "  - `second_viking_inds`: The second set of vikings involved in interactions.\n",
    "  - `dur`: The duration for which each pair remains connected.\n",
    "  - `start`: The time step at which each interaction starts. If not provided, it defaults to the current simulation time (`self.sim.ti`).\n",
    "- **Functionality:** \n",
    "  - If no vikings are provided (`viking_inds is None`), the method returns 0 (no connections are made).\n",
    "  - For each pair of vikings, it sets `beta` to 1, indicating active transmission of interaction between them, and calculates the `end` time for the interaction as `start + 2`.\n",
    "  - Finally, it appends the connection to the network with details about the participating vikings (`p1`, `p2`), the interaction strength (`beta`), duration (`dur`), and timing (`start`, `end`).\n",
    "  \n",
    "#### `update(self)`\n",
    "- **Purpose:** Updates the network by modifying connection properties as the simulation progresses.\n",
    "- **Functionality:** \n",
    "  - The method sets `beta` (the interaction strength) to 0 for any connections where the interaction duration has been completed (i.e., when `end` time is less than or equal to the current simulation time).\n",
    "  - This simulates the end of interaction or disease transmission between vikings in the network.\n",
    "\n",
    "#### `end_pairs(self)`\n",
    "- **Purpose:** Cleans up network edges by removing inactive connections.\n",
    "- **Functionality:** \n",
    "  - The method identifies \"active\" connections as those where:\n",
    "    - The interaction hasn't ended yet (`self.edges.end > self.sim.ti`), and\n",
    "    - Both vikings involved in the interaction are still alive (`people.alive[self.edges.p1] & people.alive[self.edges.p2]`).\n",
    "  - It removes any inactive edges by updating the internal data structures that track edges.\n",
    "  - It returns the number of active connections remaining.\n",
    "\n",
    "### Overall Explanation:\n",
    "The `VikingsNet` class represents a network of interactions between vikings, dynamically evolving throughout the simulation. Pairs of vikings are connected for a specified duration, during which interactions occur (e.g., representing the spread of disease). As the simulation progresses, connections are updated or removed based on their duration and the status of the individuals involved. This class is highly flexible, allowing dynamic pairings, variable durations, and time-based updates to the network.\n"
   ]
  },
  {
   "cell_type": "code",
   "execution_count": 8,
   "metadata": {},
   "outputs": [],
   "source": [
    "\n",
    "class VikingsNet(ss.DynamicNetwork):\n",
    "    \"\"\"\n",
    "    Vikings Network\n",
    "    \"\"\"\n",
    "    def __init__(self, key_dict=None, preBoard=True, postBoard=False, **kwargs):\n",
    "        \"\"\"\n",
    "        Initialized empty and filled with vikings arrival throughout the simulation\n",
    "        \"\"\"\n",
    "        key_dict = sc.mergedicts(dict(dur=ss_float_, start=ss_int_, end=ss_int_), key_dict)\n",
    "        super().__init__(key_dict=key_dict, preBoard=preBoard, postBoard=postBoard, **kwargs)\n",
    "        return\n",
    "\n",
    "    def init_pre(self, sim):\n",
    "        \" Initialize the network \"\n",
    "        super().init_pre(sim)\n",
    "        return\n",
    "    \n",
    "    def add_pairs(self, viking_inds=None, second_viking_inds=None, dur=None, start=None):\n",
    "        \" Add connections between vikings and newly arrived vikings to pair them into ship's doorms\"\n",
    "        if viking_inds is None:\n",
    "            return 0\n",
    "        else:\n",
    "            if start is None:\n",
    "                start = np.full_like(dur, fill_value=self.sim.ti)\n",
    "            n = len(viking_inds)\n",
    "            beta = np.ones(n)\n",
    "            end =  start + 2 \n",
    "            self.append(p1=viking_inds, p2=second_viking_inds, beta=beta, dur=dur, start=start, end=end)\n",
    "            return n\n",
    "        \n",
    "    def update(self):\n",
    "        \"\"\"\n",
    "        Set beta to 0 for vikings who complete duration of disease transmission\n",
    "        \"\"\"\n",
    "        inactive = self.edges.end <= self.sim.ti\n",
    "        self.edges.beta[inactive] = 0\n",
    "        return\n",
    "\n",
    "    def end_pairs(self):\n",
    "        people = self.sim.people\n",
    "        active = (self.edges.end > self.sim.ti) & people.alive[self.edges.p1] & people.alive[self.edges.p2]\n",
    "        for k in self.meta_keys():\n",
    "            self.edges[k] = self.edges[k][active]\n",
    "        return len(active)\n",
    "        \n"
   ]
  },
  {
   "cell_type": "markdown",
   "metadata": {},
   "source": [
    "# Defining the simulation\n",
    "### Overall Summary:\n",
    "This code block sets up and initializes a simulation with the following key elements:\n",
    "- **Disease dynamics** using an `SIR` model with a 10% initial disease prevalence and a transmission rate (`beta`) of 0.01.\n",
    "- **Demographic processes** with a population of 500 agents, where new births occur every 0.25 years.\n",
    "- The simulation starts on January 1st, 2000, and runs for 2 years, updating every 2 days.\n",
    "- Although the network model is not explicitly defined here (a random network is commented out), it implies the use of a custom network like `VikingsNet`. \n",
    "\n",
    "#### 1. `pars = dict(...)`\n",
    "This block defines a dictionary named `pars`, which contains various parameters for the simulation.\n",
    "\n",
    "- **`diseases`:**\n",
    "  - This parameter specifies the type of disease model being used. In this case, it's an `SIR` model (Susceptible, Infected, Recovered).\n",
    "  - `ss.SIR(unit='day', dt=1.0, init_prev=0.1, beta=ss.beta(0.01))`: \n",
    "    - **`unit='day'`**: The time unit for disease transmission is in days.\n",
    "    - **`dt=1.0`**: The time step for disease progression is 1 day.\n",
    "    - **`init_prev=0.1`**: The initial prevalence of the disease in the population is 10% (0.1).\n",
    "    - **`beta=ss.beta(0.01)`**: This defines the disease transmission rate (or infectivity) as 0.01. The `ss.beta()` function is used to calculate this value, which indicates how likely a disease is transmitted between agents per contact.\n",
    "\n",
    "- **`demographics`:**\n",
    "  - This parameter defines the demographic processes happening in the simulation.\n",
    "  - `ss.Births(unit='year', dt=0.25)`: \n",
    "    - **`unit='year'`**: The time unit for demographic events like births is in years.\n",
    "    - **`dt=0.25`**: The time step for demographic events is 0.25 years (3 months). This parameter ensures the population can grow through births at this interval.\n",
    "\n",
    "- **`n_agents = 500`:**\n",
    "  - Agents to be simulated.\n",
    "\n",
    "#### 2. `sim = ss.Sim(pars, unit='day', dt=2, start='2000-01-01', stop='2002-01-01')`\n",
    "- **`sim = ss.Sim(...)`:**\n",
    "  - This line initializes the simulation with the parameters defined in the `pars` dictionary.\n",
    "\n",
    "- **Arguments:**\n",
    "  - **`pars`**: The dictionary of parameters defined earlier, which includes the disease model, demographics, start time, and agent count.\n",
    "  - **`unit='day'`**: This sets the time unit for the entire simulation as days. It means that each step in the simulation corresponds to one day.\n",
    "  - **`dt=2`**: This sets the time step to 2 days, meaning the simulation updates every 2 days (rather than every single day).\n",
    "  - **`start='2000-01-01'`**: This sets the exact start date for the simulation: \n",
    "  - **`stop='2002-01-01'`**: This sets the stop date for the simulation: The simulation will run for 2 years.\n",
    "\n",
    "#### 3. `sim.init()`\n",
    "- **Purpose:** \n",
    "  - This initializes the simulation before it runs. It prepares the simulation environment, such as setting up the agents, initial conditions (like disease prevalence), and demographic parameters.\n",
    "  \n",
    "- **Functionality:**\n",
    "  - The `init()` function is responsible for loading and setting up the simulation according to the parameters provided. It ensures that everything is ready to run the simulation from the start date.\n",
    "\n"
   ]
  },
  {
   "cell_type": "code",
   "execution_count": 9,
   "metadata": {},
   "outputs": [
    {
     "name": "stdout",
     "output_type": "stream",
     "text": [
      "Initializing sim with 500 agents\n"
     ]
    },
    {
     "data": {
      "text/plain": [
       "Sim(n=500; 2000-01-01—2002-01-01; demographics=births; diseases=sir)"
      ]
     },
     "execution_count": 9,
     "metadata": {},
     "output_type": "execute_result"
    }
   ],
   "source": [
    "pars = dict(\n",
    "    diseases = ss.SIR(unit='day', dt=1.0, init_prev=0.1, beta=ss.beta(0.01)),\n",
    "    demographics = ss.Births(unit='year', dt=0.25),\n",
    "    start = '2000',\n",
    "    # networks = ss.RandomNet(unit='week'), # We are going to use our own network. \n",
    "    n_agents = 500,\n",
    ")\n",
    "sim = ss.Sim(pars, unit='day', dt=2, start='2000-01-01', stop='2002-01-01')\n",
    "sim.init()\n"
   ]
  },
  {
   "cell_type": "markdown",
   "metadata": {},
   "source": [
    "# Adding the network to the simulation\n",
    "\n",
    "This code sets up and integrates the custom `VikingsNet` network into the simulation, adds specific pairs of vikings to the network, and prints out the network object for inspection.\n",
    "\n",
    "#### 1. `my_network = VikingsNet()`\n",
    "This initializes an instance of the `VikingsNet` class.\n",
    "\n",
    "#### 2. `my_network.init_pre(sim)`\n",
    "- This connects the `VikingsNet` network to the simulation object (`sim`).\n",
    "- The `init_pre()` method is called to register the network with the simulation. This prepares the network to interact with the simulation as it runs. The `init_pre()` function ensures that the network is integrated into the simulation environment, and the network can now dynamically evolve with the simulation.\n",
    "\n",
    "#### 3. `my_network.add_pairs(viking_inds=[1, 2, 3], second_viking_inds=[100, 101, 102], dur=[5, 1, 1])`\n",
    "- This adds specific pairs of vikings to the network.\n",
    "  - `viking_inds=[1, 2, 3]` are the indices of the first set of vikings.\n",
    "  - `second_viking_inds=[100, 101, 102]` are the indices of the second set of vikings, each of which is paired with a viking from the first list.\n",
    "  - `dur=[5, 1, 1]` represents the duration of the connections between each pair of vikings. In this case, the connection between viking 1 and 100 lasts for 5 time units, while the other pairs last for 1 time unit each.\n",
    "\n",
    "This step establishes interactions between the specified pairs of vikings, which will last for the specified duration. These interactions are now part of the network, allowing events like disease transmission to occur between the paired vikings.\n",
    "\n",
    "#### 4. `net = sc.objdict(my_network=my_network)`\n",
    "This creates an object dictionary (`sc.objdict`) that stores the `my_network` instance. \n",
    "`sc.objdict()` is a utility function (Sciris, a package often used with simulations) that allows for flexible object management. It creates a dictionary-like object where `my_network` is a key, and the `VikingsNet` instance is the corresponding value. This can be used to manage and access network objects within the simulation.\n",
    "\n",
    "\n",
    "This code integrates the `VikingsNet` network into the simulation, pairs specific vikings with each other for given durations, and stores the network in an object dictionary for easy access. "
   ]
  },
  {
   "cell_type": "code",
   "execution_count": 10,
   "metadata": {},
   "outputs": [
    {
     "name": "stdout",
     "output_type": "stream",
     "text": [
      "#0. 'my_network':\n",
      "vikingsnet(\"vikingsnet\", p1, p2, beta, dur, start, end, preBoard, postBoard)\n",
      "   p1   p2  beta  dur  start  end\n",
      "0   1  100   1.0  5.0      0    2\n",
      "1   2  101   1.0  1.0      0    2\n",
      "2   3  102   1.0  1.0      0    2\n"
     ]
    }
   ],
   "source": [
    "\n",
    "my_network = VikingsNet()\n",
    "my_network.init_pre(sim)    # Register the network with the simulation object ( this is calling module.init_pre() - network is a module - to connect the network to the sim)\n",
    "my_network.add_pairs(viking_inds=[1, 2, 3], second_viking_inds=[100, 101, 102], dur=[5, 1, 1])\n",
    "net = sc.objdict( my_network=my_network)\n",
    "\n",
    "print(net)\n"
   ]
  },
  {
   "cell_type": "markdown",
   "metadata": {},
   "source": [
    "# Removing pairs\n",
    "Now we simulate the death of an agent and invoke the termination of the corresponding pair. "
   ]
  },
  {
   "cell_type": "code",
   "execution_count": 11,
   "metadata": {},
   "outputs": [
    {
     "data": {
      "text/plain": [
       "3"
      ]
     },
     "execution_count": 11,
     "metadata": {},
     "output_type": "execute_result"
    }
   ],
   "source": [
    "\n",
    "sim.people.alive[100] = False  # Viking dies \n",
    "my_network.end_pairs()         # Remove connections from non active vikings.\n"
   ]
  },
  {
   "cell_type": "markdown",
   "metadata": {},
   "source": [
    "# Adding new pairs\n",
    "\n",
    "during the simulation, we can also add new pairs to our network:"
   ]
  },
  {
   "cell_type": "code",
   "execution_count": 12,
   "metadata": {},
   "outputs": [
    {
     "name": "stdout",
     "output_type": "stream",
     "text": [
      "#0. 'my_network':\n",
      "vikingsnet(\"vikingsnet\", p1, p2, beta, dur, start, end, preBoard, postBoard)\n",
      "   p1   p2  beta  dur  start  end\n",
      "0   2  101   1.0  1.0      0    2\n",
      "1   3  102   1.0  1.0      0    2\n",
      "2   7  103   1.0  2.0      0    2\n",
      "3   8  104   1.0  2.0      0    2\n"
     ]
    }
   ],
   "source": [
    "# four more vikings arrive\n",
    "\n",
    "my_network.add_pairs(viking_inds=[7, 8], second_viking_inds=[103, 104], dur=[2, 2])  \n",
    "net2 = sc.objdict( my_network=my_network)\n",
    "\n",
    "print(net2)\n"
   ]
  },
  {
   "cell_type": "markdown",
   "metadata": {},
   "source": [
    "### Now you can try to use this network on implementing diseases like:"
   ]
  },
  {
   "cell_type": "markdown",
   "metadata": {},
   "source": [
    "\n",
    "Common diseases among the Vikings, like other historical populations, were largely influenced by their environment, \n",
    "lifestyle, diet, and living conditions. Based on archaeological evidence, historical records, \n",
    "and modern studies of Viking remains, some of the common diseases and health issues that Vikings may have faced include:\n",
    "\n",
    "2. Tuberculosis (TB)\n",
    "Description: A bacterial infection that primarily affects the lungs but can also impact other parts of the body. \n",
    "            It spreads through the air and would have been more common in crowded living conditions.\n",
    "Evidence:   DNA evidence from Viking-era skeletons shows traces of tuberculosis bacteria, indicating its presence in Viking populations.\n",
    "\n",
    "3. Leprosy (Hansen’s Disease)\n",
    "Description: A chronic bacterial infection that affects the skin, nerves, and respiratory tract. \n",
    "            Leprosy was common in medieval Europe, and there is evidence that it affected the Vikings.\n",
    "Evidence:   Archaeological finds in Scandinavian settlements reveal skeletal deformities consistent with leprosy, \n",
    "            and DNA analysis has confirmed the presence of the disease.\n",
    "\n",
    "4. Parasites and Worms\n",
    "Description: Vikings, like other medieval populations, likely suffered from intestinal parasites \n",
    "            (e.g., tapeworms, roundworms) due to poor sanitation and the consumption of undercooked meat or contaminated water.\n",
    "Evidence:   Excavations of Viking latrines and burial sites have uncovered eggs of parasitic worms, \n",
    "            indicating that intestinal parasites were common.\n",
    "\n",
    "8. Infectious Diseases (e.g., Plague)\n",
    "Description: Vikings likely suffered from a range of infectious diseases, including viral and bacterial \n",
    "            infections such as smallpox and plague. Vikings engaged in extensive trade and raiding, which exposed them to diseases from different regions.\n",
    "Evidence:   DNA from Viking skeletons in Norway has shown evidence of Yersinia pestis, \n",
    "            the bacterium responsible for the plague, indicating that the Vikings were exposed to the disease.\n",
    "\n",
    "Viking Health Practices:\n",
    "Herbal Medicine: Vikings relied on natural remedies using herbs and plants, many of which were based on local knowledge and passed down through generations.\n",
    "Rituals and Amulets: Vikings also believed in the protective power of amulets, rituals, and Norse gods to ward off illness and disease, often mixing spiritual and practical approaches to health.\n",
    "In summary, diseases common among Vikings were influenced by their harsh environment, physical lifestyle, and the close-knit, communal living conditions they often experienced. Many health issues they faced are consistent with what we would expect from a medieval, seafaring population.\n",
    "\n"
   ]
  },
  {
   "cell_type": "markdown",
   "metadata": {},
   "source": []
  },
  {
   "cell_type": "code",
   "execution_count": null,
   "metadata": {},
   "outputs": [],
   "source": []
  }
 ],
 "metadata": {
  "kernelspec": {
   "display_name": "Python 3",
   "language": "python",
   "name": "python3"
  },
  "language_info": {
   "codemirror_mode": {
    "name": "ipython",
    "version": 3
   },
   "file_extension": ".py",
   "mimetype": "text/x-python",
   "name": "python",
   "nbconvert_exporter": "python",
   "pygments_lexer": "ipython3",
   "version": "3.10.11"
  }
 },
 "nbformat": 4,
 "nbformat_minor": 2
}
