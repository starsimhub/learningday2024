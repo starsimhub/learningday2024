{
 "cells": [
  {
   "cell_type": "markdown",
   "metadata": {},
   "source": [
    "# The Vikings Network"
   ]
  },
  {
   "cell_type": "code",
   "execution_count": 13,
   "metadata": {},
   "outputs": [],
   "source": [
    "import numpy as np\n",
    "import sciris as sc\n",
    "import starsim as ss\n",
    "\n",
    "ss_float_ = ss.dtypes.float\n",
    "ss_int_ = ss.dtypes.int\n"
   ]
  },
  {
   "cell_type": "code",
   "execution_count": 14,
   "metadata": {},
   "outputs": [],
   "source": [
    "\n",
    "class VikingsNet(ss.DynamicNetwork):\n",
    "    \"\"\"\n",
    "    Vikings Network\n",
    "    \"\"\"\n",
    "    def __init__(self, key_dict=None, preBoard=True, postBoard=False, **kwargs):\n",
    "        \"\"\"\n",
    "        Initialized empty and filled with vikings arrival throughout the simulation\n",
    "        \"\"\"\n",
    "        key_dict = sc.mergedicts(dict(dur=ss_float_, start=ss_int_, end=ss_int_), key_dict)\n",
    "        super().__init__(key_dict=key_dict, preBoard=preBoard, postBoard=postBoard, **kwargs)\n",
    "        return\n",
    "\n",
    "    def init_pre(self, sim):\n",
    "        \" Initialize the network \"\n",
    "        super().init_pre(sim)\n",
    "        return\n",
    "    \n",
    "    def add_pairs(self, viking_inds=None, second_viking_inds=None, dur=None, start=None):\n",
    "        \" Add connections between vikings and newly arrived vikings to pair them into ship's doorms\"\n",
    "        if viking_inds is None:\n",
    "            return 0\n",
    "        else:\n",
    "            if start is None:\n",
    "                start = np.full_like(dur, fill_value=self.sim.ti)\n",
    "            n = len(viking_inds)\n",
    "            beta = np.ones(n)\n",
    "            end =  start + 2 \n",
    "            self.append(p1=viking_inds, p2=second_viking_inds, beta=beta, dur=dur, start=start, end=end)\n",
    "            return n\n",
    "        \n",
    "    def update(self):\n",
    "        \"\"\"\n",
    "        Set beta to 0 for vikings who complete duration of disease transmission\n",
    "        \"\"\"\n",
    "        inactive = self.edges.end <= self.sim.ti\n",
    "        self.edges.beta[inactive] = 0\n",
    "        return\n",
    "\n",
    "    def end_pairs(self):\n",
    "        people = self.sim.people\n",
    "        active = (self.edges.end > self.sim.ti) & people.alive[self.edges.p1] & people.alive[self.edges.p2]\n",
    "        for k in self.meta_keys():\n",
    "            self.edges[k] = self.edges[k][active]\n",
    "        return len(active)\n",
    "        \n"
   ]
  },
  {
   "cell_type": "code",
   "execution_count": 15,
   "metadata": {},
   "outputs": [
    {
     "name": "stdout",
     "output_type": "stream",
     "text": [
      "Initializing sim with 500 agents\n"
     ]
    },
    {
     "data": {
      "text/plain": [
       "Sim(n=500; 2000-01-01—2002-01-01; demographics=births; diseases=sir)"
      ]
     },
     "execution_count": 15,
     "metadata": {},
     "output_type": "execute_result"
    }
   ],
   "source": [
    "pars = dict(\n",
    "    diseases = ss.SIR(unit='day', dt=1.0, init_prev=0.1, beta=ss.beta(0.01)),\n",
    "    demographics = ss.Births(unit='year', dt=0.25),\n",
    "    start = '2000',\n",
    "    # networks = ss.RandomNet(unit='week'), # We are going to use our own network. \n",
    "    n_agents = 500,\n",
    ")\n",
    "sim = ss.Sim(pars, unit='day', dt=2, start='2000-01-01', stop='2002-01-01')\n",
    "sim.init()\n"
   ]
  },
  {
   "cell_type": "code",
   "execution_count": 16,
   "metadata": {},
   "outputs": [
    {
     "name": "stdout",
     "output_type": "stream",
     "text": [
      "#0. 'my_network':\n",
      "vikingsnet(\"vikingsnet\", p1, p2, beta, dur, start, end, preBoard, postBoard)\n",
      "   p1   p2  beta  dur  start  end\n",
      "0   1  100   1.0  5.0      0    2\n",
      "1   2  101   1.0  1.0      0    2\n",
      "2   3  102   1.0  1.0      0    2\n"
     ]
    }
   ],
   "source": [
    "\n",
    "my_network = VikingsNet()\n",
    "my_network.init_pre(sim)    # Register the network with the simulation object ( this is calling module.init_pre() - network is a module - to connect the network to the sim)\n",
    "my_network.add_pairs(viking_inds=[1, 2, 3], second_viking_inds=[100, 101, 102], dur=[5, 1, 1])\n",
    "net = sc.objdict( my_network=my_network)\n",
    "\n",
    "print(net)\n"
   ]
  },
  {
   "cell_type": "code",
   "execution_count": 17,
   "metadata": {},
   "outputs": [
    {
     "data": {
      "text/plain": [
       "3"
      ]
     },
     "execution_count": 17,
     "metadata": {},
     "output_type": "execute_result"
    }
   ],
   "source": [
    "\n",
    "sim.people.alive[100] = False  # Viking dies \n",
    "my_network.end_pairs()         # Remove connections from non active vikings.\n"
   ]
  },
  {
   "cell_type": "code",
   "execution_count": 18,
   "metadata": {},
   "outputs": [
    {
     "name": "stdout",
     "output_type": "stream",
     "text": [
      "#0. 'my_network':\n",
      "vikingsnet(\"vikingsnet\", p1, p2, beta, dur, start, end, preBoard, postBoard)\n",
      "   p1   p2  beta  dur  start  end\n",
      "0   2  101   1.0  1.0      0    2\n",
      "1   3  102   1.0  1.0      0    2\n",
      "2   7  103   1.0  2.0      0    2\n",
      "3   8  104   1.0  2.0      0    2\n"
     ]
    }
   ],
   "source": [
    "# four more vikings arrive\n",
    "\n",
    "my_network.add_pairs(viking_inds=[7, 8], second_viking_inds=[103, 104], dur=[2, 2])  \n",
    "net2 = sc.objdict( my_network=my_network)\n",
    "\n",
    "print(net2)\n"
   ]
  },
  {
   "cell_type": "markdown",
   "metadata": {},
   "source": [
    "### Now you can try to use this network on implementing diseases like:"
   ]
  },
  {
   "cell_type": "markdown",
   "metadata": {},
   "source": [
    "\n",
    "Common diseases among the Vikings, like other historical populations, were largely influenced by their environment, \n",
    "lifestyle, diet, and living conditions. Based on archaeological evidence, historical records, \n",
    "and modern studies of Viking remains, some of the common diseases and health issues that Vikings may have faced include:\n",
    "\n",
    "2. Tuberculosis (TB)\n",
    "Description: A bacterial infection that primarily affects the lungs but can also impact other parts of the body. \n",
    "            It spreads through the air and would have been more common in crowded living conditions.\n",
    "Evidence:   DNA evidence from Viking-era skeletons shows traces of tuberculosis bacteria, indicating its presence in Viking populations.\n",
    "\n",
    "3. Leprosy (Hansen’s Disease)\n",
    "Description: A chronic bacterial infection that affects the skin, nerves, and respiratory tract. \n",
    "            Leprosy was common in medieval Europe, and there is evidence that it affected the Vikings.\n",
    "Evidence:   Archaeological finds in Scandinavian settlements reveal skeletal deformities consistent with leprosy, \n",
    "            and DNA analysis has confirmed the presence of the disease.\n",
    "\n",
    "4. Parasites and Worms\n",
    "Description: Vikings, like other medieval populations, likely suffered from intestinal parasites \n",
    "            (e.g., tapeworms, roundworms) due to poor sanitation and the consumption of undercooked meat or contaminated water.\n",
    "Evidence:   Excavations of Viking latrines and burial sites have uncovered eggs of parasitic worms, \n",
    "            indicating that intestinal parasites were common.\n",
    "\n",
    "8. Infectious Diseases (e.g., Plague)\n",
    "Description: Vikings likely suffered from a range of infectious diseases, including viral and bacterial \n",
    "            infections such as smallpox and plague. Vikings engaged in extensive trade and raiding, which exposed them to diseases from different regions.\n",
    "Evidence:   DNA from Viking skeletons in Norway has shown evidence of Yersinia pestis, \n",
    "            the bacterium responsible for the plague, indicating that the Vikings were exposed to the disease.\n",
    "\n",
    "Viking Health Practices:\n",
    "Herbal Medicine: Vikings relied on natural remedies using herbs and plants, many of which were based on local knowledge and passed down through generations.\n",
    "Rituals and Amulets: Vikings also believed in the protective power of amulets, rituals, and Norse gods to ward off illness and disease, often mixing spiritual and practical approaches to health.\n",
    "In summary, diseases common among Vikings were influenced by their harsh environment, physical lifestyle, and the close-knit, communal living conditions they often experienced. Many health issues they faced are consistent with what we would expect from a medieval, seafaring population.\n",
    "\n"
   ]
  },
  {
   "cell_type": "markdown",
   "metadata": {},
   "source": []
  },
  {
   "cell_type": "code",
   "execution_count": null,
   "metadata": {},
   "outputs": [],
   "source": []
  }
 ],
 "metadata": {
  "kernelspec": {
   "display_name": "venvSSv2",
   "language": "python",
   "name": "python3"
  },
  "language_info": {
   "codemirror_mode": {
    "name": "ipython",
    "version": 3
   },
   "file_extension": ".py",
   "mimetype": "text/x-python",
   "name": "python",
   "nbconvert_exporter": "python",
   "pygments_lexer": "ipython3",
   "version": "3.11.7"
  }
 },
 "nbformat": 4,
 "nbformat_minor": 2
}
