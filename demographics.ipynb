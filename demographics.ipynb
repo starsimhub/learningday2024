{
 "cells": [
  {
   "cell_type": "markdown",
   "id": "fa65f5cc",
   "metadata": {},
   "source": [
    "# Starsim learning day - Demographics\n",
    "\n",
    "This notebook provides an introduction to setting up demographics within Starsim. It is intended to be read in conjunction with the learning day presentation slides available at: https://docs.google.com/presentation/d/1HFIsrw00s8XA7lscY0FeZC3idZs9ABxcohlz_JDmaew. \n",
    "\n",
    "Some of these exercises are based closely on the Starsim tutorial on demographics, available at: https://docs.idmod.org/projects/starsim/en/latest/tutorials/tut_demographics.html."
   ]
  },
  {
   "cell_type": "markdown",
   "id": "39ec84a3",
   "metadata": {},
   "source": [
    "## How does Starsim handle demographics?\n",
    "If you create a simulation in Starsim, demographics are not included by default. This is because there are lots of applications that don't require it, for instance if you're simulating an outbreak or a short timespan like one season. However, if you're simulating over time horizons longer than a year or two, it might become increasingly important to add information about the demographics changes over time. And even over short time horizons, many diseases disproportionately affect younger or older populations, so you may still like to add some information about the population age structure."
   ]
  },
  {
   "cell_type": "markdown",
   "id": "31301ca0",
   "metadata": {},
   "source": [
    "## Starting with the basics: simple birth and death rates\n",
    "The simplest possible way to add demographics is just to add a birth and death rate directly to the simulation:"
   ]
  },
  {
   "cell_type": "code",
   "execution_count": null,
   "id": "eb385fde",
   "metadata": {
    "ExecuteTime": {
     "end_time": "2024-09-27T00:40:18.565088Z",
     "start_time": "2024-09-27T00:40:15.940425Z"
    }
   },
   "outputs": [],
   "source": [
    "import starsim as ss\n",
    "\n",
    "pars = dict(\n",
    "    birth_rate=20,\n",
    "    death_rate=10,\n",
    "    networks = 'random', # Random network\n",
    "    diseases = dict(     # The SIR disease model, our focus for this sessoin\n",
    "       type = 'sir',\n",
    "       dur_inf = 10,\n",
    "       beta = 0.1,\n",
    "   )\n",
    ")\n",
    "sim = ss.Sim(pars)\n",
    "sim.run()"
   ]
  },
  {
   "cell_type": "markdown",
   "id": "998532af",
   "metadata": {},
   "source": [
    "Much like with diseases or networks, to do anything more advanced you will almost certainly need to set up your demographics using modules. This is covered in the next section."
   ]
  },
  {
   "cell_type": "markdown",
   "id": "c75f9527",
   "metadata": {},
   "source": [
    "## Most common usage: creating demographic modules\n",
    "Starsim contains three main demographic modules: `ss.Deaths`, `ss.Births` and `ss.Pregnancy`. Let's look at births and deaths first:"
   ]
  },
  {
   "cell_type": "code",
   "execution_count": null,
   "id": "0fddb0c9",
   "metadata": {
    "ExecuteTime": {
     "end_time": "2024-09-27T00:40:18.569873Z",
     "start_time": "2024-09-27T00:40:18.566095Z"
    }
   },
   "outputs": [],
   "source": [
    "births = ss.Births(birth_rate=20)\n",
    "deaths = ss.Deaths(death_rate=15)\n",
    "\n",
    "sim = ss.Sim(n_agents=10e3, demographics=[births, deaths], dur=200, rand_seed=1).run()\n",
    "sim.plot()"
   ]
  },
  {
   "cell_type": "markdown",
   "id": "56d6b98f",
   "metadata": {},
   "source": [
    "## Using data-informed birth and death rates\n",
    "Rather than using a constant death rate applied to everyone in the population, you'll get much more realistic demographics if you use mortality rates that vary over time and by age/sex. In the Github repository for today's sessions you can find files called `nigeria_deaths.csv` and `nigeria_births.csv`. Starsim contains support for reading these files in and processing them:"
   ]
  },
  {
   "cell_type": "code",
   "execution_count": null,
   "id": "7e589849",
   "metadata": {
    "ExecuteTime": {
     "end_time": "2024-09-27T00:40:19.344370Z",
     "start_time": "2024-09-27T00:40:18.573880Z"
    }
   },
   "outputs": [],
   "source": [
    "import pandas as pd  # For reading in CSV files\n",
    "birth_rates = pd.read_csv('nigeria_births.csv')\n",
    "births = ss.Births(pars={'birth_rate': birth_rates})\n",
    "\n",
    "death_rates = pd.read_csv('nigeria_deaths.csv')\n",
    "death = ss.Deaths(pars={'death_rate': death_rates, 'units': 1})\n",
    "\n",
    "sim = ss.Sim(n_agents=5e3, demographics=[births, deaths], dur=200, rand_seed=1).run()"
   ]
  },
  {
   "cell_type": "markdown",
   "id": "daae41cc",
   "metadata": {},
   "source": [
    "## Pregnancy and births\n",
    "If you add a births module, you will be able to capture population growth since agents will be added to the population over time. However, if you need to model maternal transmission or any other details related to pregnancy itself, you will need to use a `ss.Pregnancy` module instead of `ss.Births`. Rather than a birth rate, this module uses age- and time-specific fertility rates, as captured in the file `nigeria_asfr.csv` in the repository for today."
   ]
  },
  {
   "cell_type": "code",
   "execution_count": null,
   "id": "838b5b80",
   "metadata": {
    "ExecuteTime": {
     "end_time": "2024-09-27T00:40:19.509362Z",
     "start_time": "2024-09-27T00:40:19.505586Z"
    }
   },
   "outputs": [],
   "source": [
    "fertility_rate = pd.read_csv('nigeria_asfr.csv')\n",
    "pregnancy = ss.Pregnancy(pars={'fertility_rate': fertility_rate})\n",
    "\n",
    "death_rates = pd.read_csv('nigeria_deaths.csv')\n",
    "death = ss.Deaths(pars={'death_rate': death_rates, 'units': 1})\n",
    "\n",
    "sim = ss.Sim(n_agents=5e3, demographics=[pregnancy, deaths], dur=200, rand_seed=1).run()"
   ]
  },
  {
   "cell_type": "markdown",
   "id": "f5271651",
   "metadata": {},
   "source": [
    "## Age structure\n",
    "The final component to demographics is capturing age structure. By default, a Starsim simulation will initialize a population of agents whose ages are uniformly distributed between 0 and 100 – not very realistic! But you can replace this with data. The file `nigeria_age.csv` contains data representing the population pyramid of Nigeria in the year 1995. In general, you should add a file representing the age distribution of your country in the year that you want to start the simulation. \n",
    "\n",
    "To set up your agents with the right initial age distribution, we will create a `ss.People` module. Usually Starsim does this automatically when you pass in `n_agents`, but here we can do it manually so we can capture the age detail. "
   ]
  },
  {
   "cell_type": "code",
   "execution_count": 8,
   "id": "641ffe6e",
   "metadata": {},
   "outputs": [],
   "source": [
    "n_agents = 5_000\n",
    "age_data = pd.read_csv('nigeria_age.csv')\n",
    "ppl = ss.People(n_agents, age_data=age_data)"
   ]
  },
  {
   "cell_type": "markdown",
   "id": "e2217f5b",
   "metadata": {},
   "source": [
    "Now let's put all of this together an model a simulation with the fertility, mortality and age data for Nigeria. We will also specify what the population size of Nigeria was in 1995 - if we do this, then all the results of the simulation will be scaled to this population size."
   ]
  },
  {
   "cell_type": "code",
   "execution_count": null,
   "id": "4bcbbca5",
   "metadata": {},
   "outputs": [],
   "source": [
    "sim = ss.Sim(\n",
    "    total_pop=106819805,  # Population of Nigeria in 1995\n",
    "    start=1995,\n",
    "    dur=15,  # Run for 15 years\n",
    "    people=ppl,\n",
    "    demographics=[pregnancy, deaths],\n",
    ")\n",
    "sim.run()\n",
    "sim.plot()"
   ]
  }
 ],
 "metadata": {
  "interpreter": {
   "hash": "f02e53b57c5b07421e832345ecf38f7a8d2d37d95acfe2e20d3d6fec66321b6b"
  },
  "kernelspec": {
   "display_name": "Python [conda env:atomica312]",
   "language": "python",
   "name": "python3"
  },
  "language_info": {
   "codemirror_mode": {
    "name": "ipython",
    "version": 3
   },
   "file_extension": ".py",
   "mimetype": "text/x-python",
   "name": "python",
   "nbconvert_exporter": "python",
   "pygments_lexer": "ipython3",
   "version": "3.11.3"
  },
  "toc": {
   "base_numbering": 1,
   "nav_menu": {},
   "number_sections": true,
   "sideBar": true,
   "skip_h1_title": false,
   "title_cell": "Table of Contents",
   "title_sidebar": "Contents",
   "toc_cell": false,
   "toc_position": {
    "height": "calc(100% - 180px)",
    "left": "10px",
    "top": "150px",
    "width": "311.4px"
   },
   "toc_section_display": true,
   "toc_window_display": true
  }
 },
 "nbformat": 4,
 "nbformat_minor": 5
}
